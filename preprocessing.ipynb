{
 "cells": [
  {
   "cell_type": "code",
   "metadata": {
    "ExecuteTime": {
     "end_time": "2024-05-31T12:47:16.220233Z",
     "start_time": "2024-05-31T12:47:16.196286Z"
    }
   },
   "source": [
    "import pandas as pd\n",
    "import sys\n",
    "import numpy as np\n",
    "import json\n",
    "from utils import fen_to_vector\n"
   ],
   "outputs": [],
   "execution_count": 86
  },
  {
   "cell_type": "code",
   "metadata": {
    "ExecuteTime": {
     "end_time": "2024-05-31T12:47:16.634143Z",
     "start_time": "2024-05-31T12:47:16.605300Z"
    }
   },
   "source": [
    "def extract_cp(eval):\n",
    "    first_pv = eval[0][\"pvs\"]\n",
    "    try:\n",
    "        return first_pv[0][\"cp\"]\n",
    "    except KeyError:\n",
    "        return first_pv[0][\"mate\"] #TODO: Make real big number pos or neg\n",
    "\n",
    "    \n",
    "def extract_depth(eval):\n",
    "    depth = eval[0][\"depth\"]\n",
    "    return depth\n",
    "\n",
    "def extract_fen(eval):\n",
    "    return eval"
   ],
   "outputs": [],
   "execution_count": 87
  },
  {
   "cell_type": "code",
   "metadata": {
    "ExecuteTime": {
     "end_time": "2024-05-31T14:26:58.098684Z",
     "start_time": "2024-05-31T14:25:32.902898Z"
    }
   },
   "source": [
    "# Fixed this function, uncomment df_depth if we need depth values, otherwise don't\n",
    "def json_to_dataframe(path, num_chunks, chunksize=1000):\n",
    "  reader = pd.read_json(path, lines=True, chunksize=chunksize)\n",
    "  df_fen = pd.DataFrame(columns=[\"fen\"])\n",
    "  df_cp = pd.DataFrame()\n",
    "  #df_depth = pd.DataFrame()\n",
    "  \n",
    "  i = 0\n",
    "  for chunk in reader:\n",
    "      # concatenate all the chunks together into one column\n",
    "      df_fen = pd.concat([df_fen, chunk[\"fen\"]], axis=0)\n",
    "      df_cp = pd.concat([df_cp, chunk[\"evals\"].apply(extract_cp)], axis=0)\n",
    "      #df_depth = pd.concat([df_depth, chunk[\"evals\"].apply(extract_depth)], axis=0)\n",
    "      i+=1\n",
    "      print(f\"Loading data into dataframe {(i/num_chunks * 100):.2f}% done.\")\n",
    "      sys.stdout.flush()\n",
    "      \n",
    "      if i == num_chunks:\n",
    "          break\n",
    "          \n",
    "  df_cp = df_cp.rename(columns={\"evals\":\"cp\"})\n",
    "  #df_depth = df_depth.rename(columns={\"evals\":\"depth\"})\n",
    "  df = pd.concat([df_fen, df_cp], axis=1)\n",
    "  return df\n",
    "\n",
    "# get one chunk of 10000 data examples\n",
    "num_chunks = 100\n",
    "chunksize = 10000\n",
    "df = json_to_dataframe(\"lichess_db_eval.jsonl\", num_chunks, chunksize)\n"
   ],
   "outputs": [
    {
     "name": "stdout",
     "output_type": "stream",
     "text": [
      "Loading data into dataframe 1.00% done.\n",
      "Loading data into dataframe 2.00% done.\n",
      "Loading data into dataframe 3.00% done.\n",
      "Loading data into dataframe 4.00% done.\n",
      "Loading data into dataframe 5.00% done.\n",
      "Loading data into dataframe 6.00% done.\n",
      "Loading data into dataframe 7.00% done.\n",
      "Loading data into dataframe 8.00% done.\n",
      "Loading data into dataframe 9.00% done.\n",
      "Loading data into dataframe 10.00% done.\n",
      "Loading data into dataframe 11.00% done.\n",
      "Loading data into dataframe 12.00% done.\n",
      "Loading data into dataframe 13.00% done.\n",
      "Loading data into dataframe 14.00% done.\n",
      "Loading data into dataframe 15.00% done.\n",
      "Loading data into dataframe 16.00% done.\n",
      "Loading data into dataframe 17.00% done.\n",
      "Loading data into dataframe 18.00% done.\n",
      "Loading data into dataframe 19.00% done.\n",
      "Loading data into dataframe 20.00% done.\n",
      "Loading data into dataframe 21.00% done.\n",
      "Loading data into dataframe 22.00% done.\n",
      "Loading data into dataframe 23.00% done.\n",
      "Loading data into dataframe 24.00% done.\n",
      "Loading data into dataframe 25.00% done.\n",
      "Loading data into dataframe 26.00% done.\n",
      "Loading data into dataframe 27.00% done.\n",
      "Loading data into dataframe 28.00% done.\n",
      "Loading data into dataframe 29.00% done.\n",
      "Loading data into dataframe 30.00% done.\n",
      "Loading data into dataframe 31.00% done.\n",
      "Loading data into dataframe 32.00% done.\n",
      "Loading data into dataframe 33.00% done.\n",
      "Loading data into dataframe 34.00% done.\n",
      "Loading data into dataframe 35.00% done.\n",
      "Loading data into dataframe 36.00% done.\n",
      "Loading data into dataframe 37.00% done.\n",
      "Loading data into dataframe 38.00% done.\n",
      "Loading data into dataframe 39.00% done.\n",
      "Loading data into dataframe 40.00% done.\n",
      "Loading data into dataframe 41.00% done.\n",
      "Loading data into dataframe 42.00% done.\n",
      "Loading data into dataframe 43.00% done.\n",
      "Loading data into dataframe 44.00% done.\n",
      "Loading data into dataframe 45.00% done.\n",
      "Loading data into dataframe 46.00% done.\n",
      "Loading data into dataframe 47.00% done.\n",
      "Loading data into dataframe 48.00% done.\n",
      "Loading data into dataframe 49.00% done.\n",
      "Loading data into dataframe 50.00% done.\n",
      "Loading data into dataframe 51.00% done.\n",
      "Loading data into dataframe 52.00% done.\n",
      "Loading data into dataframe 53.00% done.\n",
      "Loading data into dataframe 54.00% done.\n",
      "Loading data into dataframe 55.00% done.\n",
      "Loading data into dataframe 56.00% done.\n",
      "Loading data into dataframe 57.00% done.\n",
      "Loading data into dataframe 58.00% done.\n",
      "Loading data into dataframe 59.00% done.\n",
      "Loading data into dataframe 60.00% done.\n",
      "Loading data into dataframe 61.00% done.\n",
      "Loading data into dataframe 62.00% done.\n",
      "Loading data into dataframe 63.00% done.\n",
      "Loading data into dataframe 64.00% done.\n",
      "Loading data into dataframe 65.00% done.\n",
      "Loading data into dataframe 66.00% done.\n",
      "Loading data into dataframe 67.00% done.\n",
      "Loading data into dataframe 68.00% done.\n",
      "Loading data into dataframe 69.00% done.\n",
      "Loading data into dataframe 70.00% done.\n",
      "Loading data into dataframe 71.00% done.\n",
      "Loading data into dataframe 72.00% done.\n",
      "Loading data into dataframe 73.00% done.\n",
      "Loading data into dataframe 74.00% done.\n",
      "Loading data into dataframe 75.00% done.\n",
      "Loading data into dataframe 76.00% done.\n",
      "Loading data into dataframe 77.00% done.\n",
      "Loading data into dataframe 78.00% done.\n",
      "Loading data into dataframe 79.00% done.\n",
      "Loading data into dataframe 80.00% done.\n",
      "Loading data into dataframe 81.00% done.\n",
      "Loading data into dataframe 82.00% done.\n",
      "Loading data into dataframe 83.00% done.\n",
      "Loading data into dataframe 84.00% done.\n",
      "Loading data into dataframe 85.00% done.\n",
      "Loading data into dataframe 86.00% done.\n",
      "Loading data into dataframe 87.00% done.\n",
      "Loading data into dataframe 88.00% done.\n",
      "Loading data into dataframe 89.00% done.\n",
      "Loading data into dataframe 90.00% done.\n",
      "Loading data into dataframe 91.00% done.\n",
      "Loading data into dataframe 92.00% done.\n",
      "Loading data into dataframe 93.00% done.\n",
      "Loading data into dataframe 94.00% done.\n",
      "Loading data into dataframe 95.00% done.\n",
      "Loading data into dataframe 96.00% done.\n",
      "Loading data into dataframe 97.00% done.\n",
      "Loading data into dataframe 98.00% done.\n",
      "Loading data into dataframe 99.00% done.\n",
      "Loading data into dataframe 100.00% done.\n"
     ]
    }
   ],
   "execution_count": 90
  },
  {
   "cell_type": "code",
   "metadata": {
    "ExecuteTime": {
     "end_time": "2024-05-31T14:27:32.973351Z",
     "start_time": "2024-05-31T14:27:28.969441Z"
    }
   },
   "source": "df.to_csv(f\"data.csv\", encoding='utf-8', index=False)",
   "outputs": [],
   "execution_count": 91
  },
  {
   "metadata": {},
   "cell_type": "code",
   "outputs": [],
   "execution_count": null,
   "source": ""
  }
 ],
 "metadata": {
  "kernelspec": {
   "display_name": "venv",
   "language": "python",
   "name": "python3"
  },
  "language_info": {
   "codemirror_mode": {
    "name": "ipython",
    "version": 3
   },
   "file_extension": ".py",
   "mimetype": "text/x-python",
   "name": "python",
   "nbconvert_exporter": "python",
   "pygments_lexer": "ipython3",
   "version": "3.12.0"
  }
 },
 "nbformat": 4,
 "nbformat_minor": 2
}
